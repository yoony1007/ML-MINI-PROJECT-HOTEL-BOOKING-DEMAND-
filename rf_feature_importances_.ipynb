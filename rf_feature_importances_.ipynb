{
 "cells": [
  {
   "cell_type": "code",
   "execution_count": 1,
   "id": "satisfactory-greene",
   "metadata": {},
   "outputs": [],
   "source": [
    "import numpy as np\n",
    "import pandas as pd\n",
    "import seaborn as sns\n",
    "import matplotlib.pyplot as plot\n",
    "from sklearn.metrics import accuracy_score, roc_auc_score, roc_curve, confusion_matrix, auc\n",
    "from sklearn.model_selection import train_test_split, cross_val_score, GridSearchCV\n",
    "from sklearn.preprocessing import OneHotEncoder, LabelEncoder\n",
    "from sklearn.tree import DecisionTreeClassifier\n",
    "from sklearn.linear_model import LogisticRegression\n",
    "from sklearn.svm import SVC\n",
    "from sklearn.naive_bayes import GaussianNB\n",
    "from sklearn.ensemble import RandomForestClassifier\n",
    "from xgboost import XGBClassifier\n",
    "from sklearn.neural_network import MLPClassifier\n",
    "from sklearn.compose import ColumnTransformer"
   ]
  },
  {
   "cell_type": "code",
   "execution_count": 2,
   "id": "prospective-algorithm",
   "metadata": {},
   "outputs": [],
   "source": [
    "hotel = pd.read_csv('data/hotel_bookings.csv')"
   ]
  },
  {
   "cell_type": "code",
   "execution_count": 3,
   "id": "outdoor-entry",
   "metadata": {},
   "outputs": [],
   "source": [
    "# 결측치 평균괎으로 채워주기\n",
    "hotel.iloc[:, 23].fillna(hotel.iloc[:, 23].mean(), inplace = True)\n",
    "hotel.iloc[:, 10].fillna(hotel.iloc[:, 10].mean(), inplace = True)"
   ]
  },
  {
   "cell_type": "code",
   "execution_count": 4,
   "id": "compound-fountain",
   "metadata": {},
   "outputs": [],
   "source": [
    "# 상관계수 낮은 컬럼 drop\n",
    "hotel.drop(['children', 'stays_in_weekend_nights', 'arrival_date_day_of_month', 'company', 'reservation_status_date'], axis = 1, inplace = True)"
   ]
  },
  {
   "cell_type": "code",
   "execution_count": 5,
   "id": "wrapped-flavor",
   "metadata": {},
   "outputs": [],
   "source": [
    "hotel.drop(['arrival_date_week_number'], axis = 1, inplace = True)"
   ]
  },
  {
   "cell_type": "code",
   "execution_count": 6,
   "id": "romantic-moderator",
   "metadata": {},
   "outputs": [],
   "source": [
    "hotel.drop(['country'], axis = 1, inplace = True)"
   ]
  },
  {
   "cell_type": "code",
   "execution_count": 7,
   "id": "balanced-niagara",
   "metadata": {},
   "outputs": [],
   "source": [
    "# reservaton_status 컬럼 drop\n",
    "# reservation_status 컬럼에 Canceled 상태가 있어서\n",
    "hotel.drop(['reservation_status'], axis = 1, inplace = True)"
   ]
  },
  {
   "cell_type": "code",
   "execution_count": 8,
   "id": "hindu-cleaning",
   "metadata": {},
   "outputs": [
    {
     "data": {
      "text/plain": [
       "((119390, 23), (119390, 1))"
      ]
     },
     "execution_count": 8,
     "metadata": {},
     "output_type": "execute_result"
    }
   ],
   "source": [
    "# X, y 나누기\n",
    "X = (hotel.loc[:, hotel.columns != 'is_canceled'])\n",
    "y = (hotel.loc[:, hotel.columns == 'is_canceled'])\n",
    "X.shape, y.shape"
   ]
  },
  {
   "cell_type": "code",
   "execution_count": 9,
   "id": "requested-former",
   "metadata": {},
   "outputs": [
    {
     "name": "stderr",
     "output_type": "stream",
     "text": [
      "c:\\users\\jiyoon\\anaconda3\\envs\\ml\\lib\\site-packages\\ipykernel_launcher.py:2: SettingWithCopyWarning: \n",
      "A value is trying to be set on a copy of a slice from a DataFrame.\n",
      "Try using .loc[row_indexer,col_indexer] = value instead\n",
      "\n",
      "See the caveats in the documentation: https://pandas.pydata.org/pandas-docs/stable/user_guide/indexing.html#returning-a-view-versus-a-copy\n",
      "  \n"
     ]
    },
    {
     "data": {
      "text/plain": [
       "0         1\n",
       "1         1\n",
       "2         1\n",
       "3         1\n",
       "4         1\n",
       "         ..\n",
       "119385    0\n",
       "119386    0\n",
       "119387    0\n",
       "119388    0\n",
       "119389    0\n",
       "Name: hotel, Length: 119390, dtype: int32"
      ]
     },
     "execution_count": 9,
     "metadata": {},
     "output_type": "execute_result"
    }
   ],
   "source": [
    "encoder = LabelEncoder()\n",
    "X['hotel'] = encoder.fit_transform(X['hotel'])\n",
    "X['hotel']"
   ]
  },
  {
   "cell_type": "code",
   "execution_count": 10,
   "id": "chubby-fraction",
   "metadata": {},
   "outputs": [
    {
     "name": "stderr",
     "output_type": "stream",
     "text": [
      "c:\\users\\jiyoon\\anaconda3\\envs\\ml\\lib\\site-packages\\ipykernel_launcher.py:1: SettingWithCopyWarning: \n",
      "A value is trying to be set on a copy of a slice from a DataFrame.\n",
      "Try using .loc[row_indexer,col_indexer] = value instead\n",
      "\n",
      "See the caveats in the documentation: https://pandas.pydata.org/pandas-docs/stable/user_guide/indexing.html#returning-a-view-versus-a-copy\n",
      "  \"\"\"Entry point for launching an IPython kernel.\n"
     ]
    },
    {
     "data": {
      "text/plain": [
       "0         5\n",
       "1         5\n",
       "2         5\n",
       "3         5\n",
       "4         5\n",
       "         ..\n",
       "119385    1\n",
       "119386    1\n",
       "119387    1\n",
       "119388    1\n",
       "119389    1\n",
       "Name: arrival_date_month, Length: 119390, dtype: int32"
      ]
     },
     "execution_count": 10,
     "metadata": {},
     "output_type": "execute_result"
    }
   ],
   "source": [
    "X['arrival_date_month'] = encoder.fit_transform(X['arrival_date_month'])\n",
    "X['arrival_date_month']"
   ]
  },
  {
   "cell_type": "code",
   "execution_count": 11,
   "id": "biblical-compression",
   "metadata": {
    "scrolled": true
   },
   "outputs": [
    {
     "name": "stderr",
     "output_type": "stream",
     "text": [
      "c:\\users\\jiyoon\\anaconda3\\envs\\ml\\lib\\site-packages\\ipykernel_launcher.py:1: SettingWithCopyWarning: \n",
      "A value is trying to be set on a copy of a slice from a DataFrame.\n",
      "Try using .loc[row_indexer,col_indexer] = value instead\n",
      "\n",
      "See the caveats in the documentation: https://pandas.pydata.org/pandas-docs/stable/user_guide/indexing.html#returning-a-view-versus-a-copy\n",
      "  \"\"\"Entry point for launching an IPython kernel.\n"
     ]
    },
    {
     "data": {
      "text/plain": [
       "0         0\n",
       "1         0\n",
       "2         0\n",
       "3         0\n",
       "4         0\n",
       "         ..\n",
       "119385    0\n",
       "119386    0\n",
       "119387    0\n",
       "119388    0\n",
       "119389    2\n",
       "Name: meal, Length: 119390, dtype: int32"
      ]
     },
     "execution_count": 11,
     "metadata": {},
     "output_type": "execute_result"
    }
   ],
   "source": [
    "X['meal'] = encoder.fit_transform(X['meal'])\n",
    "X['meal']"
   ]
  },
  {
   "cell_type": "code",
   "execution_count": 12,
   "id": "skilled-opportunity",
   "metadata": {},
   "outputs": [
    {
     "name": "stderr",
     "output_type": "stream",
     "text": [
      "c:\\users\\jiyoon\\anaconda3\\envs\\ml\\lib\\site-packages\\ipykernel_launcher.py:1: SettingWithCopyWarning: \n",
      "A value is trying to be set on a copy of a slice from a DataFrame.\n",
      "Try using .loc[row_indexer,col_indexer] = value instead\n",
      "\n",
      "See the caveats in the documentation: https://pandas.pydata.org/pandas-docs/stable/user_guide/indexing.html#returning-a-view-versus-a-copy\n",
      "  \"\"\"Entry point for launching an IPython kernel.\n"
     ]
    },
    {
     "data": {
      "text/plain": [
       "0         3\n",
       "1         3\n",
       "2         3\n",
       "3         2\n",
       "4         6\n",
       "         ..\n",
       "119385    5\n",
       "119386    6\n",
       "119387    6\n",
       "119388    6\n",
       "119389    6\n",
       "Name: market_segment, Length: 119390, dtype: int32"
      ]
     },
     "execution_count": 12,
     "metadata": {},
     "output_type": "execute_result"
    }
   ],
   "source": [
    "X['market_segment'] = encoder.fit_transform(X['market_segment'])\n",
    "X['market_segment']"
   ]
  },
  {
   "cell_type": "code",
   "execution_count": 13,
   "id": "second-score",
   "metadata": {},
   "outputs": [
    {
     "name": "stderr",
     "output_type": "stream",
     "text": [
      "c:\\users\\jiyoon\\anaconda3\\envs\\ml\\lib\\site-packages\\ipykernel_launcher.py:1: SettingWithCopyWarning: \n",
      "A value is trying to be set on a copy of a slice from a DataFrame.\n",
      "Try using .loc[row_indexer,col_indexer] = value instead\n",
      "\n",
      "See the caveats in the documentation: https://pandas.pydata.org/pandas-docs/stable/user_guide/indexing.html#returning-a-view-versus-a-copy\n",
      "  \"\"\"Entry point for launching an IPython kernel.\n"
     ]
    },
    {
     "data": {
      "text/plain": [
       "0         1\n",
       "1         1\n",
       "2         1\n",
       "3         0\n",
       "4         3\n",
       "         ..\n",
       "119385    3\n",
       "119386    3\n",
       "119387    3\n",
       "119388    3\n",
       "119389    3\n",
       "Name: distribution_channel, Length: 119390, dtype: int32"
      ]
     },
     "execution_count": 13,
     "metadata": {},
     "output_type": "execute_result"
    }
   ],
   "source": [
    "X['distribution_channel'] = encoder.fit_transform(X['distribution_channel'])\n",
    "X['distribution_channel']"
   ]
  },
  {
   "cell_type": "code",
   "execution_count": 14,
   "id": "operational-latex",
   "metadata": {},
   "outputs": [
    {
     "name": "stderr",
     "output_type": "stream",
     "text": [
      "c:\\users\\jiyoon\\anaconda3\\envs\\ml\\lib\\site-packages\\ipykernel_launcher.py:1: SettingWithCopyWarning: \n",
      "A value is trying to be set on a copy of a slice from a DataFrame.\n",
      "Try using .loc[row_indexer,col_indexer] = value instead\n",
      "\n",
      "See the caveats in the documentation: https://pandas.pydata.org/pandas-docs/stable/user_guide/indexing.html#returning-a-view-versus-a-copy\n",
      "  \"\"\"Entry point for launching an IPython kernel.\n"
     ]
    },
    {
     "data": {
      "text/plain": [
       "0         2\n",
       "1         2\n",
       "2         0\n",
       "3         0\n",
       "4         0\n",
       "         ..\n",
       "119385    0\n",
       "119386    4\n",
       "119387    3\n",
       "119388    0\n",
       "119389    0\n",
       "Name: reserved_room_type, Length: 119390, dtype: int32"
      ]
     },
     "execution_count": 14,
     "metadata": {},
     "output_type": "execute_result"
    }
   ],
   "source": [
    "X['reserved_room_type'] = encoder.fit_transform(X['reserved_room_type'])\n",
    "X['reserved_room_type']"
   ]
  },
  {
   "cell_type": "code",
   "execution_count": 15,
   "id": "assigned-destiny",
   "metadata": {},
   "outputs": [
    {
     "name": "stderr",
     "output_type": "stream",
     "text": [
      "c:\\users\\jiyoon\\anaconda3\\envs\\ml\\lib\\site-packages\\ipykernel_launcher.py:1: SettingWithCopyWarning: \n",
      "A value is trying to be set on a copy of a slice from a DataFrame.\n",
      "Try using .loc[row_indexer,col_indexer] = value instead\n",
      "\n",
      "See the caveats in the documentation: https://pandas.pydata.org/pandas-docs/stable/user_guide/indexing.html#returning-a-view-versus-a-copy\n",
      "  \"\"\"Entry point for launching an IPython kernel.\n"
     ]
    },
    {
     "data": {
      "text/plain": [
       "0         2\n",
       "1         2\n",
       "2         2\n",
       "3         0\n",
       "4         0\n",
       "         ..\n",
       "119385    0\n",
       "119386    4\n",
       "119387    3\n",
       "119388    0\n",
       "119389    0\n",
       "Name: assigned_room_type, Length: 119390, dtype: int32"
      ]
     },
     "execution_count": 15,
     "metadata": {},
     "output_type": "execute_result"
    }
   ],
   "source": [
    "X['assigned_room_type'] = encoder.fit_transform(X['assigned_room_type'])\n",
    "X['assigned_room_type']"
   ]
  },
  {
   "cell_type": "code",
   "execution_count": 16,
   "id": "synthetic-token",
   "metadata": {},
   "outputs": [
    {
     "name": "stderr",
     "output_type": "stream",
     "text": [
      "c:\\users\\jiyoon\\anaconda3\\envs\\ml\\lib\\site-packages\\ipykernel_launcher.py:1: SettingWithCopyWarning: \n",
      "A value is trying to be set on a copy of a slice from a DataFrame.\n",
      "Try using .loc[row_indexer,col_indexer] = value instead\n",
      "\n",
      "See the caveats in the documentation: https://pandas.pydata.org/pandas-docs/stable/user_guide/indexing.html#returning-a-view-versus-a-copy\n",
      "  \"\"\"Entry point for launching an IPython kernel.\n"
     ]
    },
    {
     "data": {
      "text/plain": [
       "0         0\n",
       "1         0\n",
       "2         0\n",
       "3         0\n",
       "4         0\n",
       "         ..\n",
       "119385    0\n",
       "119386    0\n",
       "119387    0\n",
       "119388    0\n",
       "119389    0\n",
       "Name: deposit_type, Length: 119390, dtype: int32"
      ]
     },
     "execution_count": 16,
     "metadata": {},
     "output_type": "execute_result"
    }
   ],
   "source": [
    "X['deposit_type'] = encoder.fit_transform(X['deposit_type'])\n",
    "X['deposit_type']"
   ]
  },
  {
   "cell_type": "code",
   "execution_count": 17,
   "id": "prospective-civilization",
   "metadata": {},
   "outputs": [
    {
     "name": "stderr",
     "output_type": "stream",
     "text": [
      "c:\\users\\jiyoon\\anaconda3\\envs\\ml\\lib\\site-packages\\ipykernel_launcher.py:1: SettingWithCopyWarning: \n",
      "A value is trying to be set on a copy of a slice from a DataFrame.\n",
      "Try using .loc[row_indexer,col_indexer] = value instead\n",
      "\n",
      "See the caveats in the documentation: https://pandas.pydata.org/pandas-docs/stable/user_guide/indexing.html#returning-a-view-versus-a-copy\n",
      "  \"\"\"Entry point for launching an IPython kernel.\n"
     ]
    },
    {
     "data": {
      "text/plain": [
       "0         2\n",
       "1         2\n",
       "2         2\n",
       "3         2\n",
       "4         2\n",
       "         ..\n",
       "119385    2\n",
       "119386    2\n",
       "119387    2\n",
       "119388    2\n",
       "119389    2\n",
       "Name: customer_type, Length: 119390, dtype: int32"
      ]
     },
     "execution_count": 17,
     "metadata": {},
     "output_type": "execute_result"
    }
   ],
   "source": [
    "X['customer_type'] = encoder.fit_transform(X['customer_type'])\n",
    "X['customer_type']"
   ]
  },
  {
   "cell_type": "code",
   "execution_count": 18,
   "id": "altered-vulnerability",
   "metadata": {},
   "outputs": [
    {
     "name": "stdout",
     "output_type": "stream",
     "text": [
      "<class 'pandas.core.frame.DataFrame'>\n",
      "RangeIndex: 119390 entries, 0 to 119389\n",
      "Data columns (total 23 columns):\n",
      " #   Column                          Non-Null Count   Dtype  \n",
      "---  ------                          --------------   -----  \n",
      " 0   hotel                           119390 non-null  int32  \n",
      " 1   lead_time                       119390 non-null  int64  \n",
      " 2   arrival_date_year               119390 non-null  int64  \n",
      " 3   arrival_date_month              119390 non-null  int32  \n",
      " 4   stays_in_week_nights            119390 non-null  int64  \n",
      " 5   adults                          119390 non-null  int64  \n",
      " 6   babies                          119390 non-null  int64  \n",
      " 7   meal                            119390 non-null  int32  \n",
      " 8   market_segment                  119390 non-null  int32  \n",
      " 9   distribution_channel            119390 non-null  int32  \n",
      " 10  is_repeated_guest               119390 non-null  int64  \n",
      " 11  previous_cancellations          119390 non-null  int64  \n",
      " 12  previous_bookings_not_canceled  119390 non-null  int64  \n",
      " 13  reserved_room_type              119390 non-null  int32  \n",
      " 14  assigned_room_type              119390 non-null  int32  \n",
      " 15  booking_changes                 119390 non-null  int64  \n",
      " 16  deposit_type                    119390 non-null  int32  \n",
      " 17  agent                           119390 non-null  float64\n",
      " 18  days_in_waiting_list            119390 non-null  int64  \n",
      " 19  customer_type                   119390 non-null  int32  \n",
      " 20  adr                             119390 non-null  float64\n",
      " 21  required_car_parking_spaces     119390 non-null  int64  \n",
      " 22  total_of_special_requests       119390 non-null  int64  \n",
      "dtypes: float64(2), int32(9), int64(12)\n",
      "memory usage: 16.9 MB\n"
     ]
    }
   ],
   "source": [
    "X.info()"
   ]
  },
  {
   "cell_type": "code",
   "execution_count": 19,
   "id": "comprehensive-poster",
   "metadata": {},
   "outputs": [],
   "source": [
    "# Train/Test 분리\n",
    "X_train, X_test, y_train, y_test = train_test_split(X, y, stratify = y, random_state = 1)\n",
    "\n",
    "# 데이터셋 나누기 - train/validation \n",
    "X_train, X_val, y_train, y_val = train_test_split(X_train, y_train, test_size = 0.3, random_state = 1)"
   ]
  },
  {
   "cell_type": "code",
   "execution_count": 20,
   "id": "sustained-color",
   "metadata": {},
   "outputs": [],
   "source": [
    "# tree = DecisionTreeClassifier(random_state = 1)\n",
    "# tree.fit(X_train, y_train)"
   ]
  },
  {
   "cell_type": "code",
   "execution_count": 21,
   "id": "needed-scheduling",
   "metadata": {},
   "outputs": [],
   "source": [
    "# 랜덤포레스트\n",
    "rf = RandomForestClassifier(max_depth = 19,\n",
    "                            max_features = 9,\n",
    "                            n_estimators = 200,\n",
    "                            random_state = 1)"
   ]
  },
  {
   "cell_type": "code",
   "execution_count": 22,
   "id": "elder-harvey",
   "metadata": {},
   "outputs": [],
   "source": [
    "# pred_train = tree.predict(X_train)\n",
    "# pred_test = tree.predict(X_test)"
   ]
  },
  {
   "cell_type": "code",
   "execution_count": 23,
   "id": "framed-sleep",
   "metadata": {
    "collapsed": true
   },
   "outputs": [
    {
     "name": "stderr",
     "output_type": "stream",
     "text": [
      "c:\\users\\jiyoon\\anaconda3\\envs\\ml\\lib\\site-packages\\ipykernel_launcher.py:2: DataConversionWarning: A column-vector y was passed when a 1d array was expected. Please change the shape of y to (n_samples,), for example using ravel().\n",
      "  \n"
     ]
    },
    {
     "data": {
      "text/plain": [
       "RandomForestClassifier(max_depth=19, max_features=9, n_estimators=200,\n",
       "                       random_state=1)"
      ]
     },
     "execution_count": 23,
     "metadata": {},
     "output_type": "execute_result"
    }
   ],
   "source": [
    "# 랜덤 포레스트 모델 학습\n",
    "rf.fit(X_train, y_train)"
   ]
  },
  {
   "cell_type": "code",
   "execution_count": 24,
   "id": "democratic-aggregate",
   "metadata": {},
   "outputs": [],
   "source": [
    "# 검증\n",
    "# accuracy_score(y_train, pred_train), accuracy_score(y_test, pred_test)"
   ]
  },
  {
   "cell_type": "code",
   "execution_count": 26,
   "id": "meaning-tissue",
   "metadata": {},
   "outputs": [],
   "source": [
    "# 예측\n",
    "pred_train_rf = rf.predict(X_train)\n",
    "pred_val_rf = rf.predict(X_val)\n",
    "pred_test_rf = rf.predict(X_test)"
   ]
  },
  {
   "cell_type": "code",
   "execution_count": null,
   "id": "apart-genius",
   "metadata": {},
   "outputs": [],
   "source": [
    "# 반올림되어서 대부분 1.0\n",
    "# from sklearn.metrics import classification_report\n",
    "# print(classification_report(y_train, pred_train))"
   ]
  },
  {
   "cell_type": "code",
   "execution_count": 27,
   "id": "assisted-scientist",
   "metadata": {},
   "outputs": [
    {
     "data": {
      "text/plain": [
       "Index(['hotel', 'lead_time', 'arrival_date_year', 'arrival_date_month',\n",
       "       'stays_in_week_nights', 'adults', 'babies', 'meal', 'market_segment',\n",
       "       'distribution_channel', 'is_repeated_guest', 'previous_cancellations',\n",
       "       'previous_bookings_not_canceled', 'reserved_room_type',\n",
       "       'assigned_room_type', 'booking_changes', 'deposit_type', 'agent',\n",
       "       'days_in_waiting_list', 'customer_type', 'adr',\n",
       "       'required_car_parking_spaces', 'total_of_special_requests'],\n",
       "      dtype='object')"
      ]
     },
     "execution_count": 27,
     "metadata": {},
     "output_type": "execute_result"
    }
   ],
   "source": [
    "X_train.columns"
   ]
  },
  {
   "cell_type": "code",
   "execution_count": null,
   "id": "medieval-relation",
   "metadata": {},
   "outputs": [],
   "source": [
    "tree.feature_importances_"
   ]
  },
  {
   "cell_type": "code",
   "execution_count": null,
   "id": "matched-virus",
   "metadata": {},
   "outputs": [],
   "source": [
    "np.sort(rf.feature_importances_)"
   ]
  },
  {
   "cell_type": "code",
   "execution_count": null,
   "id": "prostate-malawi",
   "metadata": {},
   "outputs": [],
   "source": [
    "rf.feature_importances_"
   ]
  },
  {
   "cell_type": "code",
   "execution_count": null,
   "id": "looking-marking",
   "metadata": {},
   "outputs": [],
   "source": [
    "# 0.25217154 - deposit_type\n",
    "# 0.14699334 - lead_time\n",
    "# 0.08355857 - adr"
   ]
  },
  {
   "cell_type": "code",
   "execution_count": 33,
   "id": "collective-insurance",
   "metadata": {},
   "outputs": [],
   "source": [
    "from sklearn.pipeline import make_pipeline\n",
    "model = make_pipeline(RandomForestClassifier(n_estimators = 200,\n",
    "                                             max_depth = 10,\n",
    "                                             n_jobs = -1,\n",
    "                                             random_state = 1))"
   ]
  },
  {
   "cell_type": "code",
   "execution_count": 34,
   "id": "dedicated-allah",
   "metadata": {},
   "outputs": [
    {
     "data": {
      "text/plain": [
       "Pipeline(steps=[('randomforestclassifier',\n",
       "                 RandomForestClassifier(max_depth=10, n_estimators=200,\n",
       "                                        n_jobs=-1, random_state=1))])"
      ]
     },
     "execution_count": 34,
     "metadata": {},
     "output_type": "execute_result"
    }
   ],
   "source": [
    "model.fit(X_train, y_train)"
   ]
  },
  {
   "cell_type": "code",
   "execution_count": 47,
   "id": "dense-works",
   "metadata": {},
   "outputs": [
    {
     "data": {
      "text/plain": [
       "(<Figure size 1080x684 with 2 Axes>,\n",
       " {'title_ax': <matplotlib.axes._subplots.AxesSubplot at 0x1e202c890c8>,\n",
       "  'pdp_ax': <matplotlib.axes._subplots.AxesSubplot at 0x1e202d85f08>})"
      ]
     },
     "execution_count": 47,
     "metadata": {},
     "output_type": "execute_result"
    },
    {
     "data": {
      "image/png": "[encoded data removed]",
      "text/plain": [
       "<Figure size 1080x684 with 2 Axes>"
      ]
     },
     "metadata": {
      "needs_background": "light"
     },
     "output_type": "display_data"
    }
   ],
   "source": [
    "# pdp  - deposit_type\n",
    "import matplotlib.pyplot as plt\n",
    "from pdpbox import pdp\n",
    "\n",
    "feature = 'deposit_type'\n",
    "features = X_val.columns\n",
    "pdp_dist = pdp.pdp_isolate(model = model,\n",
    "                           dataset = X_val,\n",
    "                           model_features = features,\n",
    "                           feature = feature)\n",
    "pdp.pdp_plot(pdp_dist, feature)"
   ]
  },
  {
   "cell_type": "code",
   "execution_count": 48,
   "id": "interested-integral",
   "metadata": {},
   "outputs": [
    {
     "data": {
      "text/plain": [
       "(<Figure size 1080x684 with 2 Axes>,\n",
       " {'title_ax': <matplotlib.axes._subplots.AxesSubplot at 0x1e202e3a988>,\n",
       "  'pdp_ax': <matplotlib.axes._subplots.AxesSubplot at 0x1e20433cf88>})"
      ]
     },
     "execution_count": 48,
     "metadata": {},
     "output_type": "execute_result"
    },
    {
     "data": {
      "image/png": "[encoded data removed]",
      "text/plain": [
       "<Figure size 1080x684 with 2 Axes>"
      ]
     },
     "metadata": {
      "needs_background": "light"
     },
     "output_type": "display_data"
    }
   ],
   "source": [
    "# pdp  - lead time\n",
    "import matplotlib.pyplot as plt\n",
    "from pdpbox import pdp\n",
    "\n",
    "feature = 'lead_time'\n",
    "features = X_val.columns\n",
    "pdp_dist = pdp.pdp_isolate(model = model,\n",
    "                           dataset = X_val,\n",
    "                           model_features = features,\n",
    "                           feature = feature)\n",
    "pdp.pdp_plot(pdp_dist, feature)"
   ]
  },
  {
   "cell_type": "code",
   "execution_count": 49,
   "id": "equivalent-chair",
   "metadata": {},
   "outputs": [
    {
     "data": {
      "text/plain": [
       "(<Figure size 1080x684 with 2 Axes>,\n",
       " {'title_ax': <matplotlib.axes._subplots.AxesSubplot at 0x1e204357508>,\n",
       "  'pdp_ax': <matplotlib.axes._subplots.AxesSubplot at 0x1e20442cd08>})"
      ]
     },
     "execution_count": 49,
     "metadata": {},
     "output_type": "execute_result"
    },
    {
     "data": {
      "image/png": "[encoded data removed]",
      "text/plain": [
       "<Figure size 1080x684 with 2 Axes>"
      ]
     },
     "metadata": {
      "needs_background": "light"
     },
     "output_type": "display_data"
    }
   ],
   "source": [
    "# pdp  - adr\n",
    "import matplotlib.pyplot as plt\n",
    "from pdpbox import pdp\n",
    "\n",
    "feature = 'adr'\n",
    "features = X_val.columns\n",
    "pdp_dist = pdp.pdp_isolate(model = model,\n",
    "                           dataset = X_val,\n",
    "                           model_features = features,\n",
    "                           feature = feature)\n",
    "pdp.pdp_plot(pdp_dist, feature)"
   ]
  },
  {
   "cell_type": "code",
   "execution_count": null,
   "id": "cordless-kuwait",
   "metadata": {},
   "outputs": [],
   "source": []
  },
  {
   "cell_type": "code",
   "execution_count": null,
   "id": "legal-arena",
   "metadata": {},
   "outputs": [],
   "source": []
  },
  {
   "cell_type": "code",
   "execution_count": null,
   "id": "german-tactics",
   "metadata": {},
   "outputs": [],
   "source": []
  }
 ],
 "metadata": {
  "kernelspec": {
   "display_name": "Python 3",
   "language": "python",
   "name": "python3"
  },
  "language_info": {
   "codemirror_mode": {
    "name": "ipython",
    "version": 3
   },
   "file_extension": ".py",
   "mimetype": "text/x-python",
   "name": "python",
   "nbconvert_exporter": "python",
   "pygments_lexer": "ipython3",
   "version": "3.7.10"
  }
 },
 "nbformat": 4,
 "nbformat_minor": 5
}
