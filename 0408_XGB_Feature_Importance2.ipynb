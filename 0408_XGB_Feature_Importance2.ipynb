{
 "cells": [
  {
   "cell_type": "code",
   "execution_count": 1,
   "id": "unknown-reality",
   "metadata": {},
   "outputs": [],
   "source": [
    "import numpy as np\n",
    "import pandas as pd\n",
    "import seaborn as sns\n",
    "import matplotlib.pyplot as plot\n",
    "from sklearn.metrics import accuracy_score, roc_auc_score, roc_curve, confusion_matrix, auc\n",
    "from sklearn.model_selection import train_test_split, cross_val_score, GridSearchCV\n",
    "from sklearn.preprocessing import OneHotEncoder, LabelEncoder\n",
    "from sklearn.tree import DecisionTreeClassifier\n",
    "from sklearn.linear_model import LogisticRegression\n",
    "from sklearn.svm import SVC\n",
    "from sklearn.naive_bayes import GaussianNB\n",
    "from sklearn.ensemble import RandomForestClassifier\n",
    "from xgboost import XGBClassifier\n",
    "from sklearn.neural_network import MLPClassifier\n",
    "from sklearn.compose import ColumnTransformer"
   ]
  },
  {
   "cell_type": "code",
   "execution_count": 3,
   "id": "local-completion",
   "metadata": {},
   "outputs": [],
   "source": [
    "hotel = pd.read_csv('hotel_bookings.csv')"
   ]
  },
  {
   "cell_type": "code",
   "execution_count": 4,
   "id": "republican-interpretation",
   "metadata": {},
   "outputs": [],
   "source": [
    "# 결측치 평균괎으로 채워주기\n",
    "hotel.iloc[:, 23].fillna(hotel.iloc[:, 23].mean(), inplace = True)\n",
    "hotel.iloc[:, 10].fillna(hotel.iloc[:, 10].mean(), inplace = True)"
   ]
  },
  {
   "cell_type": "code",
   "execution_count": 5,
   "id": "after-northern",
   "metadata": {},
   "outputs": [],
   "source": [
    "# 상관계수 낮은 컬럼 drop\n",
    "hotel.drop(['children', 'stays_in_weekend_nights', 'arrival_date_day_of_month', 'company', 'reservation_status_date'], axis = 1, inplace = True)"
   ]
  },
  {
   "cell_type": "code",
   "execution_count": 6,
   "id": "horizontal-platinum",
   "metadata": {},
   "outputs": [],
   "source": [
    "hotel.drop(['arrival_date_week_number'], axis = 1, inplace = True)"
   ]
  },
  {
   "cell_type": "code",
   "execution_count": 7,
   "id": "strong-bubble",
   "metadata": {},
   "outputs": [],
   "source": [
    "hotel.drop(['country'], axis = 1, inplace = True)"
   ]
  },
  {
   "cell_type": "code",
   "execution_count": 8,
   "id": "tutorial-sterling",
   "metadata": {},
   "outputs": [],
   "source": [
    "hotel.drop(['reservation_status'], axis = 1, inplace = True)"
   ]
  },
  {
   "cell_type": "code",
   "execution_count": 9,
   "id": "hawaiian-jacket",
   "metadata": {},
   "outputs": [
    {
     "data": {
      "text/plain": [
       "((119390, 23), (119390, 1))"
      ]
     },
     "execution_count": 9,
     "metadata": {},
     "output_type": "execute_result"
    }
   ],
   "source": [
    "# X, y 나누기\n",
    "X = (hotel.loc[:, hotel.columns != 'is_canceled'])\n",
    "y = (hotel.loc[:, hotel.columns == 'is_canceled'])\n",
    "X.shape, y.shape"
   ]
  },
  {
   "cell_type": "code",
   "execution_count": 10,
   "id": "continued-essex",
   "metadata": {},
   "outputs": [
    {
     "data": {
      "text/plain": [
       "(119390, 23)"
      ]
     },
     "execution_count": 10,
     "metadata": {},
     "output_type": "execute_result"
    }
   ],
   "source": [
    "X.shape"
   ]
  },
  {
   "cell_type": "code",
   "execution_count": 11,
   "id": "amino-fortune",
   "metadata": {},
   "outputs": [
    {
     "name": "stderr",
     "output_type": "stream",
     "text": [
      "c:\\users\\swl\\anaconda3\\envs\\ml\\lib\\site-packages\\ipykernel_launcher.py:2: SettingWithCopyWarning: \n",
      "A value is trying to be set on a copy of a slice from a DataFrame.\n",
      "Try using .loc[row_indexer,col_indexer] = value instead\n",
      "\n",
      "See the caveats in the documentation: https://pandas.pydata.org/pandas-docs/stable/user_guide/indexing.html#returning-a-view-versus-a-copy\n",
      "  \n"
     ]
    },
    {
     "data": {
      "text/plain": [
       "0         1\n",
       "1         1\n",
       "2         1\n",
       "3         1\n",
       "4         1\n",
       "         ..\n",
       "119385    0\n",
       "119386    0\n",
       "119387    0\n",
       "119388    0\n",
       "119389    0\n",
       "Name: hotel, Length: 119390, dtype: int32"
      ]
     },
     "execution_count": 11,
     "metadata": {},
     "output_type": "execute_result"
    }
   ],
   "source": [
    "encoder = LabelEncoder()\n",
    "X['hotel'] = encoder.fit_transform(X['hotel'])\n",
    "X['hotel']"
   ]
  },
  {
   "cell_type": "code",
   "execution_count": 12,
   "id": "manual-disclaimer",
   "metadata": {},
   "outputs": [
    {
     "name": "stderr",
     "output_type": "stream",
     "text": [
      "c:\\users\\swl\\anaconda3\\envs\\ml\\lib\\site-packages\\ipykernel_launcher.py:1: SettingWithCopyWarning: \n",
      "A value is trying to be set on a copy of a slice from a DataFrame.\n",
      "Try using .loc[row_indexer,col_indexer] = value instead\n",
      "\n",
      "See the caveats in the documentation: https://pandas.pydata.org/pandas-docs/stable/user_guide/indexing.html#returning-a-view-versus-a-copy\n",
      "  \"\"\"Entry point for launching an IPython kernel.\n"
     ]
    },
    {
     "data": {
      "text/plain": [
       "0         5\n",
       "1         5\n",
       "2         5\n",
       "3         5\n",
       "4         5\n",
       "         ..\n",
       "119385    1\n",
       "119386    1\n",
       "119387    1\n",
       "119388    1\n",
       "119389    1\n",
       "Name: arrival_date_month, Length: 119390, dtype: int32"
      ]
     },
     "execution_count": 12,
     "metadata": {},
     "output_type": "execute_result"
    }
   ],
   "source": [
    "X['arrival_date_month'] = encoder.fit_transform(X['arrival_date_month'])\n",
    "X['arrival_date_month']"
   ]
  },
  {
   "cell_type": "code",
   "execution_count": 13,
   "id": "dated-importance",
   "metadata": {},
   "outputs": [
    {
     "name": "stderr",
     "output_type": "stream",
     "text": [
      "c:\\users\\swl\\anaconda3\\envs\\ml\\lib\\site-packages\\ipykernel_launcher.py:1: SettingWithCopyWarning: \n",
      "A value is trying to be set on a copy of a slice from a DataFrame.\n",
      "Try using .loc[row_indexer,col_indexer] = value instead\n",
      "\n",
      "See the caveats in the documentation: https://pandas.pydata.org/pandas-docs/stable/user_guide/indexing.html#returning-a-view-versus-a-copy\n",
      "  \"\"\"Entry point for launching an IPython kernel.\n"
     ]
    },
    {
     "data": {
      "text/plain": [
       "0         0\n",
       "1         0\n",
       "2         0\n",
       "3         0\n",
       "4         0\n",
       "         ..\n",
       "119385    0\n",
       "119386    0\n",
       "119387    0\n",
       "119388    0\n",
       "119389    2\n",
       "Name: meal, Length: 119390, dtype: int32"
      ]
     },
     "execution_count": 13,
     "metadata": {},
     "output_type": "execute_result"
    }
   ],
   "source": [
    "X['meal'] = encoder.fit_transform(X['meal'])\n",
    "X['meal']"
   ]
  },
  {
   "cell_type": "code",
   "execution_count": 14,
   "id": "funded-attitude",
   "metadata": {},
   "outputs": [
    {
     "name": "stderr",
     "output_type": "stream",
     "text": [
      "c:\\users\\swl\\anaconda3\\envs\\ml\\lib\\site-packages\\ipykernel_launcher.py:1: SettingWithCopyWarning: \n",
      "A value is trying to be set on a copy of a slice from a DataFrame.\n",
      "Try using .loc[row_indexer,col_indexer] = value instead\n",
      "\n",
      "See the caveats in the documentation: https://pandas.pydata.org/pandas-docs/stable/user_guide/indexing.html#returning-a-view-versus-a-copy\n",
      "  \"\"\"Entry point for launching an IPython kernel.\n"
     ]
    },
    {
     "data": {
      "text/plain": [
       "0         3\n",
       "1         3\n",
       "2         3\n",
       "3         2\n",
       "4         6\n",
       "         ..\n",
       "119385    5\n",
       "119386    6\n",
       "119387    6\n",
       "119388    6\n",
       "119389    6\n",
       "Name: market_segment, Length: 119390, dtype: int32"
      ]
     },
     "execution_count": 14,
     "metadata": {},
     "output_type": "execute_result"
    }
   ],
   "source": [
    "X['market_segment'] = encoder.fit_transform(X['market_segment'])\n",
    "X['market_segment']"
   ]
  },
  {
   "cell_type": "code",
   "execution_count": 15,
   "id": "anonymous-volunteer",
   "metadata": {},
   "outputs": [
    {
     "name": "stderr",
     "output_type": "stream",
     "text": [
      "c:\\users\\swl\\anaconda3\\envs\\ml\\lib\\site-packages\\ipykernel_launcher.py:1: SettingWithCopyWarning: \n",
      "A value is trying to be set on a copy of a slice from a DataFrame.\n",
      "Try using .loc[row_indexer,col_indexer] = value instead\n",
      "\n",
      "See the caveats in the documentation: https://pandas.pydata.org/pandas-docs/stable/user_guide/indexing.html#returning-a-view-versus-a-copy\n",
      "  \"\"\"Entry point for launching an IPython kernel.\n"
     ]
    },
    {
     "data": {
      "text/plain": [
       "0         1\n",
       "1         1\n",
       "2         1\n",
       "3         0\n",
       "4         3\n",
       "         ..\n",
       "119385    3\n",
       "119386    3\n",
       "119387    3\n",
       "119388    3\n",
       "119389    3\n",
       "Name: distribution_channel, Length: 119390, dtype: int32"
      ]
     },
     "execution_count": 15,
     "metadata": {},
     "output_type": "execute_result"
    }
   ],
   "source": [
    "X['distribution_channel'] = encoder.fit_transform(X['distribution_channel'])\n",
    "X['distribution_channel']"
   ]
  },
  {
   "cell_type": "code",
   "execution_count": 16,
   "id": "exciting-offering",
   "metadata": {},
   "outputs": [
    {
     "name": "stderr",
     "output_type": "stream",
     "text": [
      "c:\\users\\swl\\anaconda3\\envs\\ml\\lib\\site-packages\\ipykernel_launcher.py:1: SettingWithCopyWarning: \n",
      "A value is trying to be set on a copy of a slice from a DataFrame.\n",
      "Try using .loc[row_indexer,col_indexer] = value instead\n",
      "\n",
      "See the caveats in the documentation: https://pandas.pydata.org/pandas-docs/stable/user_guide/indexing.html#returning-a-view-versus-a-copy\n",
      "  \"\"\"Entry point for launching an IPython kernel.\n"
     ]
    },
    {
     "data": {
      "text/plain": [
       "0         2\n",
       "1         2\n",
       "2         0\n",
       "3         0\n",
       "4         0\n",
       "         ..\n",
       "119385    0\n",
       "119386    4\n",
       "119387    3\n",
       "119388    0\n",
       "119389    0\n",
       "Name: reserved_room_type, Length: 119390, dtype: int32"
      ]
     },
     "execution_count": 16,
     "metadata": {},
     "output_type": "execute_result"
    }
   ],
   "source": [
    "X['reserved_room_type'] = encoder.fit_transform(X['reserved_room_type'])\n",
    "X['reserved_room_type']"
   ]
  },
  {
   "cell_type": "code",
   "execution_count": 17,
   "id": "theoretical-entrance",
   "metadata": {},
   "outputs": [
    {
     "name": "stderr",
     "output_type": "stream",
     "text": [
      "c:\\users\\swl\\anaconda3\\envs\\ml\\lib\\site-packages\\ipykernel_launcher.py:1: SettingWithCopyWarning: \n",
      "A value is trying to be set on a copy of a slice from a DataFrame.\n",
      "Try using .loc[row_indexer,col_indexer] = value instead\n",
      "\n",
      "See the caveats in the documentation: https://pandas.pydata.org/pandas-docs/stable/user_guide/indexing.html#returning-a-view-versus-a-copy\n",
      "  \"\"\"Entry point for launching an IPython kernel.\n"
     ]
    },
    {
     "data": {
      "text/plain": [
       "0         2\n",
       "1         2\n",
       "2         2\n",
       "3         0\n",
       "4         0\n",
       "         ..\n",
       "119385    0\n",
       "119386    4\n",
       "119387    3\n",
       "119388    0\n",
       "119389    0\n",
       "Name: assigned_room_type, Length: 119390, dtype: int32"
      ]
     },
     "execution_count": 17,
     "metadata": {},
     "output_type": "execute_result"
    }
   ],
   "source": [
    "X['assigned_room_type'] = encoder.fit_transform(X['assigned_room_type'])\n",
    "X['assigned_room_type']"
   ]
  },
  {
   "cell_type": "code",
   "execution_count": 18,
   "id": "industrial-proposition",
   "metadata": {},
   "outputs": [
    {
     "name": "stderr",
     "output_type": "stream",
     "text": [
      "c:\\users\\swl\\anaconda3\\envs\\ml\\lib\\site-packages\\ipykernel_launcher.py:1: SettingWithCopyWarning: \n",
      "A value is trying to be set on a copy of a slice from a DataFrame.\n",
      "Try using .loc[row_indexer,col_indexer] = value instead\n",
      "\n",
      "See the caveats in the documentation: https://pandas.pydata.org/pandas-docs/stable/user_guide/indexing.html#returning-a-view-versus-a-copy\n",
      "  \"\"\"Entry point for launching an IPython kernel.\n"
     ]
    },
    {
     "data": {
      "text/plain": [
       "0         0\n",
       "1         0\n",
       "2         0\n",
       "3         0\n",
       "4         0\n",
       "         ..\n",
       "119385    0\n",
       "119386    0\n",
       "119387    0\n",
       "119388    0\n",
       "119389    0\n",
       "Name: deposit_type, Length: 119390, dtype: int32"
      ]
     },
     "execution_count": 18,
     "metadata": {},
     "output_type": "execute_result"
    }
   ],
   "source": [
    "X['deposit_type'] = encoder.fit_transform(X['deposit_type'])\n",
    "X['deposit_type']"
   ]
  },
  {
   "cell_type": "code",
   "execution_count": 19,
   "id": "announced-grill",
   "metadata": {},
   "outputs": [
    {
     "name": "stderr",
     "output_type": "stream",
     "text": [
      "c:\\users\\swl\\anaconda3\\envs\\ml\\lib\\site-packages\\ipykernel_launcher.py:1: SettingWithCopyWarning: \n",
      "A value is trying to be set on a copy of a slice from a DataFrame.\n",
      "Try using .loc[row_indexer,col_indexer] = value instead\n",
      "\n",
      "See the caveats in the documentation: https://pandas.pydata.org/pandas-docs/stable/user_guide/indexing.html#returning-a-view-versus-a-copy\n",
      "  \"\"\"Entry point for launching an IPython kernel.\n"
     ]
    },
    {
     "data": {
      "text/plain": [
       "0         2\n",
       "1         2\n",
       "2         2\n",
       "3         2\n",
       "4         2\n",
       "         ..\n",
       "119385    2\n",
       "119386    2\n",
       "119387    2\n",
       "119388    2\n",
       "119389    2\n",
       "Name: customer_type, Length: 119390, dtype: int32"
      ]
     },
     "execution_count": 19,
     "metadata": {},
     "output_type": "execute_result"
    }
   ],
   "source": [
    "X['customer_type'] = encoder.fit_transform(X['customer_type'])\n",
    "X['customer_type']"
   ]
  },
  {
   "cell_type": "code",
   "execution_count": 20,
   "id": "geological-television",
   "metadata": {},
   "outputs": [
    {
     "name": "stdout",
     "output_type": "stream",
     "text": [
      "<class 'pandas.core.frame.DataFrame'>\n",
      "RangeIndex: 119390 entries, 0 to 119389\n",
      "Data columns (total 23 columns):\n",
      " #   Column                          Non-Null Count   Dtype  \n",
      "---  ------                          --------------   -----  \n",
      " 0   hotel                           119390 non-null  int32  \n",
      " 1   lead_time                       119390 non-null  int64  \n",
      " 2   arrival_date_year               119390 non-null  int64  \n",
      " 3   arrival_date_month              119390 non-null  int32  \n",
      " 4   stays_in_week_nights            119390 non-null  int64  \n",
      " 5   adults                          119390 non-null  int64  \n",
      " 6   babies                          119390 non-null  int64  \n",
      " 7   meal                            119390 non-null  int32  \n",
      " 8   market_segment                  119390 non-null  int32  \n",
      " 9   distribution_channel            119390 non-null  int32  \n",
      " 10  is_repeated_guest               119390 non-null  int64  \n",
      " 11  previous_cancellations          119390 non-null  int64  \n",
      " 12  previous_bookings_not_canceled  119390 non-null  int64  \n",
      " 13  reserved_room_type              119390 non-null  int32  \n",
      " 14  assigned_room_type              119390 non-null  int32  \n",
      " 15  booking_changes                 119390 non-null  int64  \n",
      " 16  deposit_type                    119390 non-null  int32  \n",
      " 17  agent                           119390 non-null  float64\n",
      " 18  days_in_waiting_list            119390 non-null  int64  \n",
      " 19  customer_type                   119390 non-null  int32  \n",
      " 20  adr                             119390 non-null  float64\n",
      " 21  required_car_parking_spaces     119390 non-null  int64  \n",
      " 22  total_of_special_requests       119390 non-null  int64  \n",
      "dtypes: float64(2), int32(9), int64(12)\n",
      "memory usage: 16.9 MB\n"
     ]
    }
   ],
   "source": [
    "X.info()"
   ]
  },
  {
   "cell_type": "code",
   "execution_count": 21,
   "id": "reduced-joseph",
   "metadata": {},
   "outputs": [],
   "source": [
    "# Train/Test 분리\n",
    "X_train, X_test, y_train, y_test = train_test_split(X, y, stratify = y, random_state = 1)\n",
    "\n",
    "# 데이터셋 나누기 - train/validation \n",
    "X_train, X_val, y_train, y_val = train_test_split(X_train, y_train, test_size = 0.3, random_state = 1)"
   ]
  },
  {
   "cell_type": "code",
   "execution_count": 22,
   "id": "applicable-drove",
   "metadata": {},
   "outputs": [],
   "source": [
    "# XGBoost\n",
    "from xgboost import XGBClassifier\n",
    "xgb = XGBClassifier(random_state = 1,\n",
    "                    n_estimators = 200,\n",
    "                    learning_rate = 0.3,\n",
    "                    max_depth = 6)"
   ]
  },
  {
   "cell_type": "code",
   "execution_count": 23,
   "id": "german-drunk",
   "metadata": {},
   "outputs": [
    {
     "name": "stderr",
     "output_type": "stream",
     "text": [
      "c:\\users\\swl\\anaconda3\\envs\\ml\\lib\\site-packages\\xgboost\\sklearn.py:888: UserWarning: The use of label encoder in XGBClassifier is deprecated and will be removed in a future release. To remove this warning, do the following: 1) Pass option use_label_encoder=False when constructing XGBClassifier object; and 2) Encode your labels (y) as integers starting with 0, i.e. 0, 1, 2, ..., [num_class - 1].\n",
      "  warnings.warn(label_encoder_deprecation_msg, UserWarning)\n",
      "c:\\users\\swl\\anaconda3\\envs\\ml\\lib\\site-packages\\sklearn\\utils\\validation.py:63: DataConversionWarning: A column-vector y was passed when a 1d array was expected. Please change the shape of y to (n_samples, ), for example using ravel().\n",
      "  return f(*args, **kwargs)\n"
     ]
    },
    {
     "name": "stdout",
     "output_type": "stream",
     "text": [
      "[15:18:08] WARNING: C:/Users/Administrator/workspace/xgboost-win64_release_1.3.0/src/learner.cc:1061: Starting in XGBoost 1.3.0, the default evaluation metric used with the objective 'binary:logistic' was changed from 'error' to 'logloss'. Explicitly set eval_metric if you'd like to restore the old behavior.\n"
     ]
    },
    {
     "data": {
      "text/plain": [
       "XGBClassifier(base_score=0.5, booster='gbtree', colsample_bylevel=1,\n",
       "              colsample_bynode=1, colsample_bytree=1, gamma=0, gpu_id=-1,\n",
       "              importance_type='gain', interaction_constraints='',\n",
       "              learning_rate=0.3, max_delta_step=0, max_depth=6,\n",
       "              min_child_weight=1, missing=nan, monotone_constraints='()',\n",
       "              n_estimators=200, n_jobs=8, num_parallel_tree=1, random_state=1,\n",
       "              reg_alpha=0, reg_lambda=1, scale_pos_weight=1, subsample=1,\n",
       "              tree_method='exact', validate_parameters=1, verbosity=None)"
      ]
     },
     "execution_count": 23,
     "metadata": {},
     "output_type": "execute_result"
    }
   ],
   "source": [
    "xgb.fit(X_train, y_train)"
   ]
  },
  {
   "cell_type": "code",
   "execution_count": 24,
   "id": "worldwide-dividend",
   "metadata": {},
   "outputs": [],
   "source": [
    "# 예측\n",
    "pred_train_xgb = xgb.predict(X_train)\n",
    "pred_val_xgb = xgb.predict(X_val)\n",
    "pred_test_xgb = xgb.predict(X_test)"
   ]
  },
  {
   "cell_type": "code",
   "execution_count": 25,
   "id": "constant-death",
   "metadata": {},
   "outputs": [
    {
     "data": {
      "text/plain": [
       "Index(['hotel', 'lead_time', 'arrival_date_year', 'arrival_date_month',\n",
       "       'stays_in_week_nights', 'adults', 'babies', 'meal', 'market_segment',\n",
       "       'distribution_channel', 'is_repeated_guest', 'previous_cancellations',\n",
       "       'previous_bookings_not_canceled', 'reserved_room_type',\n",
       "       'assigned_room_type', 'booking_changes', 'deposit_type', 'agent',\n",
       "       'days_in_waiting_list', 'customer_type', 'adr',\n",
       "       'required_car_parking_spaces', 'total_of_special_requests'],\n",
       "      dtype='object')"
      ]
     },
     "execution_count": 25,
     "metadata": {},
     "output_type": "execute_result"
    }
   ],
   "source": [
    "X_train.columns"
   ]
  },
  {
   "cell_type": "code",
   "execution_count": 32,
   "id": "removable-tackle",
   "metadata": {},
   "outputs": [
    {
     "ename": "NameError",
     "evalue": "name 'best_params_' is not defined",
     "output_type": "error",
     "traceback": [
      "\u001b[1;31m---------------------------------------------------------------------------\u001b[0m",
      "\u001b[1;31mNameError\u001b[0m                                 Traceback (most recent call last)",
      "\u001b[1;32m<ipython-input-32-3fc90e9c9cb5>\u001b[0m in \u001b[0;36m<module>\u001b[1;34m\u001b[0m\n\u001b[1;32m----> 1\u001b[1;33m \u001b[0mbest_params_\u001b[0m\u001b[1;33m\u001b[0m\u001b[1;33m\u001b[0m\u001b[0m\n\u001b[0m",
      "\u001b[1;31mNameError\u001b[0m: name 'best_params_' is not defined"
     ]
    }
   ],
   "source": [
    "best_params_"
   ]
  },
  {
   "cell_type": "code",
   "execution_count": null,
   "id": "exceptional-milwaukee",
   "metadata": {},
   "outputs": [],
   "source": [
    "best_xgb = randomized_search.best_estimator_\n",
    "best_rf"
   ]
  },
  {
   "cell_type": "code",
   "execution_count": null,
   "id": "pursuant-darkness",
   "metadata": {},
   "outputs": [],
   "source": []
  },
  {
   "cell_type": "code",
   "execution_count": 33,
   "id": "interstate-trouble",
   "metadata": {},
   "outputs": [
    {
     "data": {
      "text/plain": [
       "array([0.00506723, 0.00651991, 0.00615049, 0.00326772, 0.00305029,\n",
       "       0.00372168, 0.00227671, 0.00396764, 0.0226184 , 0.00396821,\n",
       "       0.00378278, 0.06277426, 0.01052649, 0.00871876, 0.00689396,\n",
       "       0.00851856, 0.66963154, 0.00755789, 0.00502208, 0.0147297 ,\n",
       "       0.0035851 , 0.11445094, 0.02319964], dtype=float32)"
      ]
     },
     "execution_count": 33,
     "metadata": {},
     "output_type": "execute_result"
    }
   ],
   "source": [
    "fi = xgb.feature_importances_\n",
    "fi"
   ]
  },
  {
   "cell_type": "code",
   "execution_count": 34,
   "id": "sharp-conversion",
   "metadata": {},
   "outputs": [
    {
     "data": {
      "text/plain": [
       "deposit_type                      0.669632\n",
       "required_car_parking_spaces       0.114451\n",
       "previous_cancellations            0.062774\n",
       "total_of_special_requests         0.023200\n",
       "market_segment                    0.022618\n",
       "customer_type                     0.014730\n",
       "previous_bookings_not_canceled    0.010526\n",
       "reserved_room_type                0.008719\n",
       "booking_changes                   0.008519\n",
       "agent                             0.007558\n",
       "assigned_room_type                0.006894\n",
       "lead_time                         0.006520\n",
       "arrival_date_year                 0.006150\n",
       "hotel                             0.005067\n",
       "days_in_waiting_list              0.005022\n",
       "distribution_channel              0.003968\n",
       "meal                              0.003968\n",
       "is_repeated_guest                 0.003783\n",
       "adults                            0.003722\n",
       "adr                               0.003585\n",
       "arrival_date_month                0.003268\n",
       "stays_in_week_nights              0.003050\n",
       "babies                            0.002277\n",
       "dtype: float32"
      ]
     },
     "execution_count": 34,
     "metadata": {},
     "output_type": "execute_result"
    }
   ],
   "source": [
    "fi_s = pd.Series(fi, index=X_train.columns)\n",
    "fi_s.sort_values(ascending=False)"
   ]
  },
  {
   "cell_type": "code",
   "execution_count": 36,
   "id": "identical-killer",
   "metadata": {},
   "outputs": [
    {
     "data": {
      "image/png": "[encoded data removed]",
      "text/plain": [
       "<Figure size 720x504 with 1 Axes>"
      ]
     },
     "metadata": {
      "needs_background": "light"
     },
     "output_type": "display_data"
    }
   ],
   "source": [
    "import matplotlib.pyplot as plt\n",
    "fi_s.sort_values().plot(kind='barh', figsize=(10,7))\n",
    "plt.show()"
   ]
  },
  {
   "cell_type": "code",
   "execution_count": null,
   "id": "single-cooperation",
   "metadata": {},
   "outputs": [],
   "source": [
    "# 라벨 인코딩함"
   ]
  },
  {
   "cell_type": "code",
   "execution_count": null,
   "id": "preliminary-zoning",
   "metadata": {},
   "outputs": [],
   "source": []
  },
  {
   "cell_type": "code",
   "execution_count": null,
   "id": "patent-ethernet",
   "metadata": {},
   "outputs": [],
   "source": []
  },
  {
   "cell_type": "code",
   "execution_count": 26,
   "id": "bridal-strip",
   "metadata": {
    "scrolled": true
   },
   "outputs": [
    {
     "data": {
      "text/plain": [
       "array([0.00506723, 0.00651991, 0.00615049, 0.00326772, 0.00305029,\n",
       "       0.00372168, 0.00227671, 0.00396764, 0.0226184 , 0.00396821,\n",
       "       0.00378278, 0.06277426, 0.01052649, 0.00871876, 0.00689396,\n",
       "       0.00851856, 0.66963154, 0.00755789, 0.00502208, 0.0147297 ,\n",
       "       0.0035851 , 0.11445094, 0.02319964], dtype=float32)"
      ]
     },
     "execution_count": 26,
     "metadata": {},
     "output_type": "execute_result"
    }
   ],
   "source": [
    "xgb.feature_importances_"
   ]
  },
  {
   "cell_type": "code",
   "execution_count": 28,
   "id": "sorted-kazakhstan",
   "metadata": {},
   "outputs": [
    {
     "data": {
      "text/plain": [
       "array([0.00227671, 0.00305029, 0.00326772, 0.0035851 , 0.00372168,\n",
       "       0.00378278, 0.00396764, 0.00396821, 0.00502208, 0.00506723,\n",
       "       0.00615049, 0.00651991, 0.00689396, 0.00755789, 0.00851856,\n",
       "       0.00871876, 0.01052649, 0.0147297 , 0.0226184 , 0.02319964,\n",
       "       0.06277426, 0.11445094, 0.66963154], dtype=float32)"
      ]
     },
     "execution_count": 28,
     "metadata": {},
     "output_type": "execute_result"
    }
   ],
   "source": [
    "np.sort(xgb.feature_importances_)"
   ]
  },
  {
   "cell_type": "code",
   "execution_count": null,
   "id": "harmful-bangkok",
   "metadata": {},
   "outputs": [],
   "source": [
    "# 0.66963154 - deposit_type\n",
    "# 0.11445094 - 'required_car_parking_spaces'\n",
    "# 0.06277426 - 'previous_cancellations'"
   ]
  },
  {
   "cell_type": "code",
   "execution_count": 29,
   "id": "selected-shopping",
   "metadata": {},
   "outputs": [],
   "source": [
    "from sklearn.pipeline import make_pipeline\n",
    "model = make_pipeline(XGBClassifier(n_estimators = 200,\n",
    "                          max_depth = 6,\n",
    "                          learning_rate = 0.3,\n",
    "                          random_state = 1))"
   ]
  },
  {
   "cell_type": "code",
   "execution_count": 30,
   "id": "smaller-clark",
   "metadata": {},
   "outputs": [
    {
     "name": "stdout",
     "output_type": "stream",
     "text": [
      "[15:22:01] WARNING: C:/Users/Administrator/workspace/xgboost-win64_release_1.3.0/src/learner.cc:1061: Starting in XGBoost 1.3.0, the default evaluation metric used with the objective 'binary:logistic' was changed from 'error' to 'logloss'. Explicitly set eval_metric if you'd like to restore the old behavior.\n"
     ]
    },
    {
     "data": {
      "text/plain": [
       "Pipeline(steps=[('xgbclassifier',\n",
       "                 XGBClassifier(base_score=0.5, booster='gbtree',\n",
       "                               colsample_bylevel=1, colsample_bynode=1,\n",
       "                               colsample_bytree=1, gamma=0, gpu_id=-1,\n",
       "                               importance_type='gain',\n",
       "                               interaction_constraints='', learning_rate=0.3,\n",
       "                               max_delta_step=0, max_depth=6,\n",
       "                               min_child_weight=1, missing=nan,\n",
       "                               monotone_constraints='()', n_estimators=200,\n",
       "                               n_jobs=8, num_parallel_tree=1, random_state=1,\n",
       "                               reg_alpha=0, reg_lambda=1, scale_pos_weight=1,\n",
       "                               subsample=1, tree_method='exact',\n",
       "                               validate_parameters=1, verbosity=None))])"
      ]
     },
     "execution_count": 30,
     "metadata": {},
     "output_type": "execute_result"
    }
   ],
   "source": [
    "model.fit(X_train, y_train)"
   ]
  },
  {
   "cell_type": "code",
   "execution_count": 35,
   "id": "bacterial-bosnia",
   "metadata": {},
   "outputs": [
    {
     "data": {
      "text/plain": [
       "(<Figure size 1080x684 with 2 Axes>,\n",
       " {'title_ax': <matplotlib.axes._subplots.AxesSubplot at 0x1d117db3a88>,\n",
       "  'pdp_ax': <matplotlib.axes._subplots.AxesSubplot at 0x1d117e25f08>})"
      ]
     },
     "execution_count": 35,
     "metadata": {},
     "output_type": "execute_result"
    },
    {
     "data": {
      "image/png": "[encoded data removed]",
      "text/plain": [
       "<Figure size 1080x684 with 2 Axes>"
      ]
     },
     "metadata": {
      "needs_background": "light"
     },
     "output_type": "display_data"
    }
   ],
   "source": [
    "# pdp - deposit_type\n",
    "import matplotlib.pyplot as plt\n",
    "from pdpbox import pdp\n",
    "\n",
    "feature = 'deposit_type'\n",
    "features = X_val.columns\n",
    "pdp_dist = pdp.pdp_isolate(model = model,\n",
    "                           dataset = X_val,\n",
    "                           model_features = features,\n",
    "                           feature = feature)\n",
    "pdp.pdp_plot(pdp_dist, feature)"
   ]
  },
  {
   "cell_type": "code",
   "execution_count": 36,
   "id": "extraordinary-hughes",
   "metadata": {},
   "outputs": [
    {
     "data": {
      "text/plain": [
       "(<Figure size 1080x684 with 2 Axes>,\n",
       " {'title_ax': <matplotlib.axes._subplots.AxesSubplot at 0x1d118070e08>,\n",
       "  'pdp_ax': <matplotlib.axes._subplots.AxesSubplot at 0x1d1181064c8>})"
      ]
     },
     "execution_count": 36,
     "metadata": {},
     "output_type": "execute_result"
    },
    {
     "data": {
      "image/png": "[encoded data removed]",
      "text/plain": [
       "<Figure size 1080x684 with 2 Axes>"
      ]
     },
     "metadata": {
      "needs_background": "light"
     },
     "output_type": "display_data"
    }
   ],
   "source": [
    "# pdp  - 'required_car_parking_spaces'\n",
    "import matplotlib.pyplot as plt\n",
    "from pdpbox import pdp\n",
    "\n",
    "feature = 'required_car_parking_spaces'\n",
    "features = X_val.columns\n",
    "pdp_dist = pdp.pdp_isolate(model = model,\n",
    "                           dataset = X_val,\n",
    "                           model_features = features,\n",
    "                           feature = feature)\n",
    "pdp.pdp_plot(pdp_dist, feature)"
   ]
  },
  {
   "cell_type": "code",
   "execution_count": 37,
   "id": "timely-marketplace",
   "metadata": {},
   "outputs": [
    {
     "data": {
      "text/plain": [
       "(<Figure size 1080x684 with 2 Axes>,\n",
       " {'title_ax': <matplotlib.axes._subplots.AxesSubplot at 0x1d118179b08>,\n",
       "  'pdp_ax': <matplotlib.axes._subplots.AxesSubplot at 0x1d118ede108>})"
      ]
     },
     "execution_count": 37,
     "metadata": {},
     "output_type": "execute_result"
    },
    {
     "data": {
      "image/png": "[encoded data removed]",
      "text/plain": [
       "<Figure size 1080x684 with 2 Axes>"
      ]
     },
     "metadata": {
      "needs_background": "light"
     },
     "output_type": "display_data"
    }
   ],
   "source": [
    "# pdp  - 'previous_cancellations'\n",
    "import matplotlib.pyplot as plt\n",
    "from pdpbox import pdp\n",
    "\n",
    "feature = 'previous_cancellations'\n",
    "features = X_val.columns\n",
    "pdp_dist = pdp.pdp_isolate(model = model,\n",
    "                           dataset = X_val,\n",
    "                           model_features = features,\n",
    "                           feature = feature)\n",
    "pdp.pdp_plot(pdp_dist, feature)"
   ]
  }
 ],
 "metadata": {
  "kernelspec": {
   "display_name": "Python 3",
   "language": "python",
   "name": "python3"
  },
  "language_info": {
   "codemirror_mode": {
    "name": "ipython",
    "version": 3
   },
   "file_extension": ".py",
   "mimetype": "text/x-python",
   "name": "python",
   "nbconvert_exporter": "python",
   "pygments_lexer": "ipython3",
   "version": "3.7.10"
  }
 },
 "nbformat": 4,
 "nbformat_minor": 5
}
